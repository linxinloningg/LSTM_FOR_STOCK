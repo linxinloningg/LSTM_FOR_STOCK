{
 "cells": [
  {
   "cell_type": "markdown",
   "id": "9149eb35",
   "metadata": {},
   "source": [
    "### 导入相关需要的库"
   ]
  },
  {
   "cell_type": "code",
   "execution_count": 1,
   "id": "54eb5b39",
   "metadata": {},
   "outputs": [],
   "source": [
    "from core.data_processor import DataLoader\n",
    "import pandas as pd\n",
    "import json\n",
    "from core.model import Model\n",
    "import matplotlib.pyplot as plt"
   ]
  },
  {
   "cell_type": "code",
   "execution_count": 2,
   "id": "68805a73",
   "metadata": {},
   "outputs": [],
   "source": [
    "from numpy import set_printoptions\n",
    "set_printoptions(suppress=True)"
   ]
  },
  {
   "cell_type": "markdown",
   "id": "5738b23e",
   "metadata": {},
   "source": [
    "#### 画图（可视化函数）"
   ]
  },
  {
   "cell_type": "code",
   "execution_count": 3,
   "id": "df71a2d5",
   "metadata": {},
   "outputs": [],
   "source": [
    "def plot_results(predicted_data, true_data):\n",
    "    fig = plt.figure(facecolor='white')\n",
    "    ax = fig.add_subplot(111)\n",
    "    ax.plot(true_data, label='True Data')\n",
    "    plt.plot(predicted_data, label='Prediction')\n",
    "    plt.legend()\n",
    "    plt.show()\n",
    "\n",
    "\n",
    "def plot_results_multiple(predicted_data, true_data, prediction_len):\n",
    "    fig = plt.figure(facecolor='white')\n",
    "    ax = fig.add_subplot(111)\n",
    "    ax.plot(true_data)\n",
    "    # 填充预测列表，将其在图表中移动到正确的开始位置\n",
    "    for i, data in enumerate(predicted_data):\n",
    "        padding = [None for _ in range(i * prediction_len)]\n",
    "        plt.plot(padding + data)\n",
    "    plt.show()"
   ]
  },
  {
   "cell_type": "markdown",
   "id": "b6b82121",
   "metadata": {},
   "source": [
    "#### * 1.导入设置文件和数据"
   ]
  },
  {
   "cell_type": "code",
   "execution_count": 4,
   "id": "8b664d08",
   "metadata": {},
   "outputs": [],
   "source": [
    "configs = json.load(open('config.json', 'r'))\n",
    "df = pd.read_csv('./data/sh600031.csv')  # 读取股票文件"
   ]
  },
  {
   "cell_type": "code",
   "execution_count": 5,
   "id": "37c8d106",
   "metadata": {
    "scrolled": false
   },
   "outputs": [
    {
     "data": {
      "text/html": [
       "<div>\n",
       "<style scoped>\n",
       "    .dataframe tbody tr th:only-of-type {\n",
       "        vertical-align: middle;\n",
       "    }\n",
       "\n",
       "    .dataframe tbody tr th {\n",
       "        vertical-align: top;\n",
       "    }\n",
       "\n",
       "    .dataframe thead th {\n",
       "        text-align: right;\n",
       "    }\n",
       "</style>\n",
       "<table border=\"1\" class=\"dataframe\">\n",
       "  <thead>\n",
       "    <tr style=\"text-align: right;\">\n",
       "      <th></th>\n",
       "      <th>date</th>\n",
       "      <th>open</th>\n",
       "      <th>high</th>\n",
       "      <th>low</th>\n",
       "      <th>close</th>\n",
       "      <th>volume</th>\n",
       "    </tr>\n",
       "  </thead>\n",
       "  <tbody>\n",
       "    <tr>\n",
       "      <th>0</th>\n",
       "      <td>2003-07-03</td>\n",
       "      <td>23.00</td>\n",
       "      <td>23.00</td>\n",
       "      <td>20.10</td>\n",
       "      <td>21.30</td>\n",
       "      <td>33816715</td>\n",
       "    </tr>\n",
       "    <tr>\n",
       "      <th>1</th>\n",
       "      <td>2003-07-04</td>\n",
       "      <td>21.30</td>\n",
       "      <td>22.18</td>\n",
       "      <td>21.05</td>\n",
       "      <td>21.84</td>\n",
       "      <td>7697544</td>\n",
       "    </tr>\n",
       "    <tr>\n",
       "      <th>2</th>\n",
       "      <td>2003-07-07</td>\n",
       "      <td>21.90</td>\n",
       "      <td>21.96</td>\n",
       "      <td>21.51</td>\n",
       "      <td>21.80</td>\n",
       "      <td>3951205</td>\n",
       "    </tr>\n",
       "    <tr>\n",
       "      <th>3</th>\n",
       "      <td>2003-07-08</td>\n",
       "      <td>21.80</td>\n",
       "      <td>22.22</td>\n",
       "      <td>21.70</td>\n",
       "      <td>21.91</td>\n",
       "      <td>2117357</td>\n",
       "    </tr>\n",
       "    <tr>\n",
       "      <th>4</th>\n",
       "      <td>2003-07-09</td>\n",
       "      <td>21.75</td>\n",
       "      <td>22.65</td>\n",
       "      <td>21.70</td>\n",
       "      <td>22.47</td>\n",
       "      <td>3440447</td>\n",
       "    </tr>\n",
       "  </tbody>\n",
       "</table>\n",
       "</div>"
      ],
      "text/plain": [
       "         date   open   high    low  close    volume\n",
       "0  2003-07-03  23.00  23.00  20.10  21.30  33816715\n",
       "1  2003-07-04  21.30  22.18  21.05  21.84   7697544\n",
       "2  2003-07-07  21.90  21.96  21.51  21.80   3951205\n",
       "3  2003-07-08  21.80  22.22  21.70  21.91   2117357\n",
       "4  2003-07-09  21.75  22.65  21.70  22.47   3440447"
      ]
     },
     "execution_count": 5,
     "metadata": {},
     "output_type": "execute_result"
    }
   ],
   "source": [
    "df.head()"
   ]
  },
  {
   "cell_type": "code",
   "execution_count": 6,
   "id": "700acb37",
   "metadata": {
    "scrolled": false
   },
   "outputs": [
    {
     "data": {
      "text/plain": [
       "(4424, 6)"
      ]
     },
     "execution_count": 6,
     "metadata": {},
     "output_type": "execute_result"
    }
   ],
   "source": [
    "df.shape"
   ]
  },
  {
   "cell_type": "markdown",
   "id": "654c4782",
   "metadata": {},
   "source": [
    "#### * 2.用DataLoader加载数据df，它将会安装预先设置好的‘train_test_split’和‘columns’对数据进行分割和采样"
   ]
  },
  {
   "cell_type": "code",
   "execution_count": 7,
   "id": "c675830a",
   "metadata": {},
   "outputs": [],
   "source": [
    "data = DataLoader(\n",
    "        dataframe=df,\n",
    "        split=configs['data']['train_test_split'],\n",
    "        cols=configs['data']['columns']\n",
    "    )"
   ]
  },
  {
   "cell_type": "markdown",
   "id": "30e43fc5",
   "metadata": {},
   "source": [
    "     * 2.1 加载训练集，数据采用滑动窗口的方式采样：\n",
    "     按照‘sequence_length’序列长度对数据进行滑动窗口的方式采样：即第n+1个点数据+前n个点数据=sequence_length"
   ]
  },
  {
   "cell_type": "code",
   "execution_count": 8,
   "id": "90feb6b5",
   "metadata": {},
   "outputs": [],
   "source": [
    "x, y = data.get_train_data(\n",
    "        seq_len=configs['data']['sequence_length'],\n",
    "        input_timesteps=configs['data']['input_timesteps'],\n",
    "        normalise=configs['data']['normalise']\n",
    "    )"
   ]
  },
  {
   "cell_type": "markdown",
   "id": "43f28a96",
   "metadata": {},
   "source": [
    "     * 2.2 加载训练集，数据采用滑动窗口的方式采样"
   ]
  },
  {
   "cell_type": "code",
   "execution_count": 9,
   "id": "e383a2d4",
   "metadata": {},
   "outputs": [],
   "source": [
    "x_test, y_test = data.get_test_data(\n",
    "        seq_len=configs['data']['sequence_length'],\n",
    "        input_timesteps=configs['data']['input_timesteps'],\n",
    "        normalise=configs['data']['normalise']\n",
    "    )"
   ]
  },
  {
   "cell_type": "code",
   "execution_count": 10,
   "id": "3bc24024",
   "metadata": {
    "scrolled": true
   },
   "outputs": [
    {
     "data": {
      "text/plain": [
       "((3066, 25, 2), (3066, 5, 1))"
      ]
     },
     "execution_count": 10,
     "metadata": {},
     "output_type": "execute_result"
    }
   ],
   "source": [
    "x.shape,y.shape"
   ]
  },
  {
   "cell_type": "code",
   "execution_count": 11,
   "id": "8ee8b472",
   "metadata": {},
   "outputs": [
    {
     "data": {
      "text/plain": [
       "((44, 25, 2), (44, 5, 1))"
      ]
     },
     "execution_count": 11,
     "metadata": {},
     "output_type": "execute_result"
    }
   ],
   "source": [
    "x_test.shape,y_test.shape"
   ]
  },
  {
   "cell_type": "markdown",
   "id": "5c6c382c",
   "metadata": {},
   "source": [
    "#### * 3.构建模型"
   ]
  },
  {
   "cell_type": "code",
   "execution_count": 12,
   "id": "3f3f7c1a",
   "metadata": {},
   "outputs": [
    {
     "name": "stdout",
     "output_type": "stream",
     "text": [
      "[Model] Model Compiled\n",
      "Time taken: 0:00:01.282140\n"
     ]
    }
   ],
   "source": [
    "model = Model()\n",
    "model.build_model(configs)"
   ]
  },
  {
   "cell_type": "markdown",
   "id": "04a06be0",
   "metadata": {},
   "source": [
    "#### * 4.进行训练 "
   ]
  },
  {
   "cell_type": "code",
   "execution_count": 13,
   "id": "32d67b83",
   "metadata": {
    "scrolled": true
   },
   "outputs": [
    {
     "name": "stdout",
     "output_type": "stream",
     "text": [
      "[Model] Training Started\n",
      "[Model] 32 epochs, 64 batch size\n",
      "Epoch 1/32\n",
      "48/48 [==============================] - 18s 229ms/step - loss: 0.0206 - val_loss: 0.0062\n",
      "Epoch 2/32\n",
      "48/48 [==============================] - 9s 185ms/step - loss: 0.0115 - val_loss: 0.0030\n",
      "Epoch 3/32\n",
      "48/48 [==============================] - 9s 184ms/step - loss: 0.0098 - val_loss: 0.0045\n",
      "Epoch 4/32\n",
      "48/48 [==============================] - 9s 184ms/step - loss: 0.0090 - val_loss: 0.0028\n",
      "Epoch 5/32\n",
      "48/48 [==============================] - 9s 188ms/step - loss: 0.0082 - val_loss: 0.0024\n",
      "Epoch 6/32\n",
      "48/48 [==============================] - 9s 192ms/step - loss: 0.0074 - val_loss: 0.0024\n",
      "Epoch 7/32\n",
      "48/48 [==============================] - 9s 189ms/step - loss: 0.0073 - val_loss: 0.0019\n",
      "Epoch 8/32\n",
      "48/48 [==============================] - 9s 189ms/step - loss: 0.0071 - val_loss: 0.0022\n",
      "Epoch 9/32\n",
      "48/48 [==============================] - 9s 186ms/step - loss: 0.0065 - val_loss: 0.0020\n",
      "[Model] Training Completed. Model saved as saved_models\n",
      "Time taken: 0:01:30.443665\n"
     ]
    }
   ],
   "source": [
    "# 内存中训练\n",
    "model.train(\n",
    "    x,\n",
    "    y,\n",
    "    epochs=configs['training']['epochs'],\n",
    "    batch_size=configs['training']['batch_size'],\n",
    "    validation_data=(x_test, y_test),\n",
    "    verbose=configs['training']['verbose'],\n",
    "    shuffle=configs['training']['shuffle'],\n",
    "    validation_freq=configs['training']['validation_freq'],\n",
    "    save_dir=configs['model']['save_dir']\n",
    ")"
   ]
  },
  {
   "cell_type": "code",
   "execution_count": 14,
   "id": "27fc3ec2",
   "metadata": {
    "scrolled": true
   },
   "outputs": [
    {
     "name": "stdout",
     "output_type": "stream",
     "text": [
      "[Model] Predicting Point-by-Point...\n"
     ]
    }
   ],
   "source": [
    "# 逐点预测\n",
    "predictions_pointbypoint = model.predict_point_by_point(x_test)"
   ]
  },
  {
   "cell_type": "code",
   "execution_count": 15,
   "id": "f170dca9",
   "metadata": {
    "scrolled": false
   },
   "outputs": [
    {
     "data": {
      "text/plain": [
       "(220,)"
      ]
     },
     "execution_count": 15,
     "metadata": {},
     "output_type": "execute_result"
    }
   ],
   "source": [
    "predictions_pointbypoint.shape"
   ]
  },
  {
   "cell_type": "code",
   "execution_count": 16,
   "id": "6cdc0ec4",
   "metadata": {},
   "outputs": [],
   "source": [
    "y_test = y_test.flatten()"
   ]
  },
  {
   "cell_type": "code",
   "execution_count": 17,
   "id": "b856fdd1",
   "metadata": {},
   "outputs": [
    {
     "data": {
      "image/png": "[encoded data removed]",
      "text/plain": [
       "<Figure size 432x288 with 1 Axes>"
      ]
     },
     "metadata": {},
     "output_type": "display_data"
    }
   ],
   "source": [
    "# 画图\n",
    "plot_results(predictions_pointbypoint, y_test)"
   ]
  }
 ],
 "metadata": {
  "kernelspec": {
   "display_name": "deep",
   "language": "python",
   "name": "deep"
  },
  "language_info": {
   "codemirror_mode": {
    "name": "ipython",
    "version": 3
   },
   "file_extension": ".py",
   "mimetype": "text/x-python",
   "name": "python",
   "nbconvert_exporter": "python",
   "pygments_lexer": "ipython3",
   "version": "3.9.7"
  }
 },
 "nbformat": 4,
 "nbformat_minor": 5
}
